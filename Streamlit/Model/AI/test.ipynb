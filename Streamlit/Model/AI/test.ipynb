{
 "cells": [
  {
   "cell_type": "code",
   "execution_count": 13,
   "metadata": {},
   "outputs": [],
   "source": [
    "from gtts import gTTS \n",
    "from mpyg321.MPyg123Player import MPyg123Player\n",
    "mytext = 'thank you'\n",
    "language = 'en'\n",
    "myobj = gTTS(text=mytext, lang=language, slow=False) \n",
    "myobj.save(\"welcome.mp3\") \n",
    "player = MPyg123Player()\n",
    "player.play_song(\"welcome.mp3\")\n"
   ]
  },
  {
   "cell_type": "code",
   "execution_count": null,
   "metadata": {},
   "outputs": [],
   "source": []
  }
 ],
 "metadata": {
  "kernelspec": {
   "display_name": "base",
   "language": "python",
   "name": "python3"
  },
  "language_info": {
   "name": "python",
   "version": "3.11.4"
  }
 },
 "nbformat": 4,
 "nbformat_minor": 2
}
